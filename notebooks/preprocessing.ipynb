{
 "cells": [
  {
   "cell_type": "markdown",
   "id": "25c4196a-fd2b-4acb-8f28-75736e9b216c",
   "metadata": {},
   "source": [
    "# Preprocessing\n",
    "\n",
    "preprocess timetable data"
   ]
  },
  {
   "cell_type": "markdown",
   "id": "49144e57-df07-4133-9c9f-12269fee100a",
   "metadata": {},
   "source": [
    "## Starting Spark"
   ]
  },
  {
   "cell_type": "code",
   "execution_count": 1,
   "id": "777e3c36-5c22-4a38-b622-ab486a106e9b",
   "metadata": {},
   "outputs": [],
   "source": [
    "%load_ext sparkmagic.magics"
   ]
  },
  {
   "cell_type": "code",
   "execution_count": 2,
   "id": "3b57f7c2-403d-4222-a630-329afe4937d6",
   "metadata": {},
   "outputs": [],
   "source": [
    "import os\n",
    "from IPython import get_ipython\n",
    "username = os.environ['RENKU_USERNAME']\n",
    "server = \"http://iccluster029.iccluster.epfl.ch:8998\"\n",
    "\n",
    "# set the application name as \"<your_gaspar_id>-final\"\n",
    "get_ipython().run_cell_magic(\n",
    "    'spark',\n",
    "    line='config', \n",
    "    cell=\"\"\"{{ \"name\": \"{0}-final\", \"executorMemory\": \"4G\", \"executorCores\": 4, \"numExecutors\": 10, \"driverMemory\": \"4G\"}}\"\"\".format(username)\n",
    ")"
   ]
  },
  {
   "cell_type": "code",
   "execution_count": 3,
   "id": "2d0a403e-f827-4abd-9dcf-7c09ae72483d",
   "metadata": {},
   "outputs": [
    {
     "name": "stdout",
     "output_type": "stream",
     "text": [
      "Starting Spark application\n"
     ]
    },
    {
     "data": {
      "text/html": [
       "<table>\n",
       "<tr><th>ID</th><th>YARN Application ID</th><th>Kind</th><th>State</th><th>Spark UI</th><th>Driver log</th><th>User</th><th>Current session?</th></tr><tr><td>5590</td><td>application_1652960972356_0041</td><td>pyspark</td><td>idle</td><td><a target=\"_blank\" href=\"http://iccluster029.iccluster.epfl.ch:8088/proxy/application_1652960972356_0041/\">Link</a></td><td><a target=\"_blank\" href=\"http://iccluster042.iccluster.epfl.ch:8042/node/containerlogs/container_e05_1652960972356_0041_01_000001/eric\">Link</a></td><td>None</td><td>✔</td></tr></table>"
      ],
      "text/plain": [
       "<IPython.core.display.HTML object>"
      ]
     },
     "metadata": {},
     "output_type": "display_data"
    },
    {
     "data": {
      "application/vnd.jupyter.widget-view+json": {
       "model_id": "",
       "version_major": 2,
       "version_minor": 0
      },
      "text/plain": [
       "FloatProgress(value=0.0, bar_style='info', description='Progress:', layout=Layout(height='25px', width='50%'),…"
      ]
     },
     "metadata": {},
     "output_type": "display_data"
    },
    {
     "name": "stdout",
     "output_type": "stream",
     "text": [
      "SparkSession available as 'spark'.\n"
     ]
    }
   ],
   "source": [
    "get_ipython().run_line_magic(\n",
    "    \"spark\", \"add -s {0}-final -l python -u {1} -k\".format(username, server)\n",
    ")"
   ]
  },
  {
   "cell_type": "code",
   "execution_count": 30,
   "id": "a8ea9abe-032b-45fb-9623-3f0caad6511c",
   "metadata": {},
   "outputs": [
    {
     "name": "stderr",
     "output_type": "stream",
     "text": [
      "UsageError: Cell magic `%%send_to_spark` not found.\n"
     ]
    }
   ],
   "source": [
    "%%send_to_spark -i username -t str -n username"
   ]
  },
  {
   "cell_type": "code",
   "execution_count": 4,
   "id": "a6d2fa28-27e0-4c02-b320-d3358d265c17",
   "metadata": {},
   "outputs": [
    {
     "data": {
      "application/vnd.jupyter.widget-view+json": {
       "model_id": "",
       "version_major": 2,
       "version_minor": 0
      },
      "text/plain": [
       "FloatProgress(value=0.0, bar_style='info', description='Progress:', layout=Layout(height='25px', width='50%'),…"
      ]
     },
     "metadata": {},
     "output_type": "display_data"
    },
    {
     "name": "stdout",
     "output_type": "stream",
     "text": [
      "We are using Spark 2.3.2.3.1.4.0-315"
     ]
    }
   ],
   "source": [
    "%%spark\n",
    "print('We are using Spark %s' % spark.version)"
   ]
  },
  {
   "cell_type": "markdown",
   "id": "ed954099-0d89-4f4a-abad-45d06a76cccf",
   "metadata": {},
   "source": [
    "## Filter Stations (`allstops`)\n",
    "\n",
    "We only consider departure and arrival stops in a 15km radius of Zürich's train station, `Zürich HB (8503000)`, (lat, lon) = `(47.378177, 8.540192)`."
   ]
  },
  {
   "cell_type": "code",
   "execution_count": 5,
   "id": "8864b696-4788-4e7f-a879-3b3a51c0ba27",
   "metadata": {},
   "outputs": [
    {
     "data": {
      "application/vnd.jupyter.widget-view+json": {
       "model_id": "",
       "version_major": 2,
       "version_minor": 0
      },
      "text/plain": [
       "FloatProgress(value=0.0, bar_style='info', description='Progress:', layout=Layout(height='25px', width='50%'),…"
      ]
     },
     "metadata": {},
     "output_type": "display_data"
    },
    {
     "name": "stdout",
     "output_type": "stream",
     "text": [
      "root\n",
      " |-- stop_id: string (nullable = true)\n",
      " |-- stop_name: string (nullable = true)\n",
      " |-- stop_lat: double (nullable = true)\n",
      " |-- stop_lon: double (nullable = true)\n",
      " |-- location_type: string (nullable = true)\n",
      " |-- parent_station: string (nullable = true)"
     ]
    }
   ],
   "source": [
    "%%spark\n",
    "allstops = spark.read.orc('/data/sbb/orc/allstops')\n",
    "allstops.printSchema()"
   ]
  },
  {
   "cell_type": "code",
   "execution_count": 6,
   "id": "bc51ab9d-06f7-4d0b-a8b0-d5b25d1a9013",
   "metadata": {},
   "outputs": [
    {
     "data": {
      "application/vnd.jupyter.widget-view+json": {
       "model_id": "",
       "version_major": 2,
       "version_minor": 0
      },
      "text/plain": [
       "FloatProgress(value=0.0, bar_style='info', description='Progress:', layout=Layout(height='25px', width='50%'),…"
      ]
     },
     "metadata": {},
     "output_type": "display_data"
    },
    {
     "name": "stdout",
     "output_type": "stream",
     "text": [
      "46689\n",
      "+-------+--------------------+----------------+----------------+-------------+--------------+\n",
      "|stop_id|           stop_name|        stop_lat|        stop_lon|location_type|parent_station|\n",
      "+-------+--------------------+----------------+----------------+-------------+--------------+\n",
      "|1100008|Zell (Wiesental),...|47.7100842702352|7.85964788274668|             |              |\n",
      "|1100009|Zell (Wiesental),...|47.7131911044794|7.86290876722849|             |              |\n",
      "|1100010|           Atzenbach|47.7146175266411| 7.8723500608659|             |              |\n",
      "|1100011|     Mambach, Brücke|47.7282088873189| 7.8774704579861|             |              |\n",
      "|1100012|  Mambach, Mühlschau|47.7340818684375| 7.8813871126254|             |              |\n",
      "+-------+--------------------+----------------+----------------+-------------+--------------+\n",
      "only showing top 5 rows"
     ]
    }
   ],
   "source": [
    "%%spark\n",
    "print(allstops.count())\n",
    "allstops.show(5)"
   ]
  },
  {
   "cell_type": "code",
   "execution_count": 7,
   "id": "c2cb6d8d-9971-4751-a1fe-218fe1799b5d",
   "metadata": {},
   "outputs": [
    {
     "data": {
      "application/vnd.jupyter.widget-view+json": {
       "model_id": "",
       "version_major": 2,
       "version_minor": 0
      },
      "text/plain": [
       "FloatProgress(value=0.0, bar_style='info', description='Progress:', layout=Layout(height='25px', width='50%'),…"
      ]
     },
     "metadata": {},
     "output_type": "display_data"
    }
   ],
   "source": [
    "%%spark\n",
    "import pyspark.sql.functions as F\n",
    "from math import sin, cos, sqrt, atan2, radians\n",
    "\n",
    "# input lat/lon in degree\n",
    "# output distance in KM\n",
    "# equation from https://www.movable-type.co.uk/scripts/latlong.html\n",
    "def lat_lon_to_distance(lat1, lon1, lat2, lon2):\n",
    "    # earth radius in KM\n",
    "    R = 6371.0\n",
    "\n",
    "    lat1 = radians(lat1)\n",
    "    lon1 = radians(lon1)\n",
    "    lat2 = radians(lat2)\n",
    "    lon2 = radians(lon2)\n",
    "\n",
    "    dlat = lat2 - lat1\n",
    "    dlon = lon2 - lon1\n",
    "    \n",
    "    a = sin(dlat/2)**2 + cos(lat1) * cos(lat2) * sin(dlon/2)**2\n",
    "    c = 2 * atan2(sqrt(a), sqrt(1-a))\n",
    "\n",
    "    return R * c\n",
    "\n",
    "# test\n",
    "assert(int(lat_lon_to_distance(20, 30, 40, 50)) == 2927)\n",
    "\n",
    "def distance_from_Zurich_HB(lat, lon):\n",
    "    return lat_lon_to_distance(lat, lon, 47.378177, 8.540192)"
   ]
  },
  {
   "cell_type": "code",
   "execution_count": 8,
   "id": "3f0175df-fceb-4a1f-a2d5-10a3c8469770",
   "metadata": {},
   "outputs": [
    {
     "data": {
      "application/vnd.jupyter.widget-view+json": {
       "model_id": "",
       "version_major": 2,
       "version_minor": 0
      },
      "text/plain": [
       "FloatProgress(value=0.0, bar_style='info', description='Progress:', layout=Layout(height='25px', width='50%'),…"
      ]
     },
     "metadata": {},
     "output_type": "display_data"
    }
   ],
   "source": [
    "%%spark\n",
    "filtered_stops = allstops \\\n",
    "    .withColumn(\"distance\", F.udf(distance_from_Zurich_HB)(F.col('stop_lat'), F.col('stop_lon'))) \\\n",
    "    .filter(F.col('distance')<=15.5)"
   ]
  },
  {
   "cell_type": "code",
   "execution_count": 9,
   "id": "b7a17a23-e064-48cf-86b4-d14439ccb115",
   "metadata": {},
   "outputs": [
    {
     "data": {
      "application/vnd.jupyter.widget-view+json": {
       "model_id": "",
       "version_major": 2,
       "version_minor": 0
      },
      "text/plain": [
       "FloatProgress(value=0.0, bar_style='info', description='Progress:', layout=Layout(height='25px', width='50%'),…"
      ]
     },
     "metadata": {},
     "output_type": "display_data"
    },
    {
     "name": "stdout",
     "output_type": "stream",
     "text": [
      "2193\n",
      "+-------+---------+----------------+----------------+-------------+--------------+--------------------+\n",
      "|stop_id|stop_name|        stop_lat|        stop_lon|location_type|parent_station|            distance|\n",
      "+-------+---------+----------------+----------------+-------------+--------------+--------------------+\n",
      "|8503000|Zürich HB|47.3781762039461|8.54021154209037|             | Parent8503000|0.001474108001550874|\n",
      "+-------+---------+----------------+----------------+-------------+--------------+--------------------+"
     ]
    }
   ],
   "source": [
    "%%spark\n",
    "print(filtered_stops.count())\n",
    "# Check Zürich HB\n",
    "filtered_stops.filter(F.col('stop_id')==8503000).show()"
   ]
  },
  {
   "cell_type": "code",
   "execution_count": 10,
   "id": "2d3e0aaa-2b1d-4749-94a2-116db688b462",
   "metadata": {},
   "outputs": [
    {
     "data": {
      "application/vnd.jupyter.widget-view+json": {
       "model_id": "",
       "version_major": 2,
       "version_minor": 0
      },
      "text/plain": [
       "FloatProgress(value=0.0, bar_style='info', description='Progress:', layout=Layout(height='25px', width='50%'),…"
      ]
     },
     "metadata": {},
     "output_type": "display_data"
    }
   ],
   "source": [
    "%%spark\n",
    "filtered_stops = filtered_stops.select(\"stop_id\")"
   ]
  },
  {
   "cell_type": "markdown",
   "id": "9e942c7d-6c48-4ac0-a6e9-37e3e95661bd",
   "metadata": {},
   "source": [
    "## Filter Timetable \n",
    "\n",
    "Filter timetable data according to 15km radius of Zürich's train station.\n",
    "\n",
    "We only consider journeys at reasonable hours of the day, and on a typical business day, and assuming the schedule of May 13-17, 2019.\n"
   ]
  },
  {
   "cell_type": "markdown",
   "id": "58316799-2067-40d3-a49c-82d85339f056",
   "metadata": {},
   "source": [
    "### Filter `trip_id` in `stop_times`"
   ]
  },
  {
   "cell_type": "code",
   "execution_count": 11,
   "id": "ecb98442-cdab-4084-b158-cc2d5d65ef79",
   "metadata": {},
   "outputs": [
    {
     "data": {
      "application/vnd.jupyter.widget-view+json": {
       "model_id": "",
       "version_major": 2,
       "version_minor": 0
      },
      "text/plain": [
       "FloatProgress(value=0.0, bar_style='info', description='Progress:', layout=Layout(height='25px', width='50%'),…"
      ]
     },
     "metadata": {},
     "output_type": "display_data"
    },
    {
     "name": "stdout",
     "output_type": "stream",
     "text": [
      "root\n",
      " |-- trip_id: string (nullable = true)\n",
      " |-- arrival_time: string (nullable = true)\n",
      " |-- departure_time: string (nullable = true)\n",
      " |-- stop_id: string (nullable = true)\n",
      " |-- stop_sequence: integer (nullable = true)\n",
      " |-- pickup_type: integer (nullable = true)\n",
      " |-- drop_off_type: integer (nullable = true)"
     ]
    }
   ],
   "source": [
    "%%spark\n",
    "stop_times = spark.read \\\n",
    "  .option(\"header\", \"true\") \\\n",
    "  .option(\"inferSchema\", \"true\") \\\n",
    "  .csv('/data/sbb/csv/stop_times/2019/05/08/stop_times.txt')\n",
    "\n",
    "stop_times.printSchema()"
   ]
  },
  {
   "cell_type": "code",
   "execution_count": 12,
   "id": "ce6b314a-f592-4b7b-bca4-30d9636b018e",
   "metadata": {},
   "outputs": [
    {
     "data": {
      "application/vnd.jupyter.widget-view+json": {
       "model_id": "",
       "version_major": 2,
       "version_minor": 0
      },
      "text/plain": [
       "FloatProgress(value=0.0, bar_style='info', description='Progress:', layout=Layout(height='25px', width='50%'),…"
      ]
     },
     "metadata": {},
     "output_type": "display_data"
    },
    {
     "name": "stdout",
     "output_type": "stream",
     "text": [
      "+-------------------+------------+--------------+-------+-------------+-----------+-------------+\n",
      "|            trip_id|arrival_time|departure_time|stop_id|stop_sequence|pickup_type|drop_off_type|\n",
      "+-------------------+------------+--------------+-------+-------------+-----------+-------------+\n",
      "|1.TA.1-84-j19-1.1.H|    06:13:00|      06:13:00|8572249|            1|          0|            0|\n",
      "|1.TA.1-84-j19-1.1.H|    06:14:00|      06:14:00|8577508|            2|          0|            0|\n",
      "|1.TA.1-84-j19-1.1.H|    06:15:00|      06:15:00|8581070|            3|          0|            0|\n",
      "|1.TA.1-84-j19-1.1.H|    06:16:00|      06:16:00|8578360|            4|          0|            0|\n",
      "|1.TA.1-84-j19-1.1.H|    06:17:00|      06:17:00|8583448|            5|          0|            0|\n",
      "+-------------------+------------+--------------+-------+-------------+-----------+-------------+\n",
      "only showing top 5 rows\n",
      "\n",
      "10862563"
     ]
    }
   ],
   "source": [
    "%%spark\n",
    "stop_times.show(5)\n",
    "print(stop_times.count())"
   ]
  },
  {
   "cell_type": "code",
   "execution_count": 23,
   "id": "0e2bdee3-e488-4736-955b-32fef1e0afa0",
   "metadata": {},
   "outputs": [
    {
     "data": {
      "application/vnd.jupyter.widget-view+json": {
       "model_id": "",
       "version_major": 2,
       "version_minor": 0
      },
      "text/plain": [
       "FloatProgress(value=0.0, bar_style='info', description='Progress:', layout=Layout(height='25px', width='50%'),…"
      ]
     },
     "metadata": {},
     "output_type": "display_data"
    }
   ],
   "source": [
    "%%spark\n",
    "filtered_stop_times = stop_times \\\n",
    "    .select(\"trip_id\", \"arrival_time\", \"departure_time\", \"stop_id\") \\\n",
    "    .join(filtered_stops, on=\"stop_id\", how=\"inner\")\n",
    "filtered_trip_ids = filtered_stop_times.select(\"trip_id\").distinct()"
   ]
  },
  {
   "cell_type": "code",
   "execution_count": 14,
   "id": "e48619ee-1e98-4469-9fa7-684ad62a9a0f",
   "metadata": {},
   "outputs": [
    {
     "data": {
      "application/vnd.jupyter.widget-view+json": {
       "model_id": "",
       "version_major": 2,
       "version_minor": 0
      },
      "text/plain": [
       "FloatProgress(value=0.0, bar_style='info', description='Progress:', layout=Layout(height='25px', width='50%'),…"
      ]
     },
     "metadata": {},
     "output_type": "display_data"
    },
    {
     "name": "stdout",
     "output_type": "stream",
     "text": [
      "2166674\n",
      "160040"
     ]
    }
   ],
   "source": [
    "%%spark\n",
    "print(filtered_stop_times.count())\n",
    "print(filtered_trip_ids.count())"
   ]
  },
  {
   "cell_type": "markdown",
   "id": "6eb16532-11f9-484f-8234-f3abccba1a26",
   "metadata": {},
   "source": [
    "### Filter `trips`"
   ]
  },
  {
   "cell_type": "code",
   "execution_count": 15,
   "id": "03b1cba5-46d5-4d7a-8731-881fbabd0bb5",
   "metadata": {},
   "outputs": [
    {
     "data": {
      "application/vnd.jupyter.widget-view+json": {
       "model_id": "",
       "version_major": 2,
       "version_minor": 0
      },
      "text/plain": [
       "FloatProgress(value=0.0, bar_style='info', description='Progress:', layout=Layout(height='25px', width='50%'),…"
      ]
     },
     "metadata": {},
     "output_type": "display_data"
    },
    {
     "name": "stdout",
     "output_type": "stream",
     "text": [
      "root\n",
      " |-- route_id: string (nullable = true)\n",
      " |-- service_id: string (nullable = true)\n",
      " |-- trip_id: string (nullable = true)\n",
      " |-- trip_headsign: string (nullable = true)\n",
      " |-- trip_short_name: integer (nullable = true)\n",
      " |-- direction_id: integer (nullable = true)\n",
      "\n",
      "+-----------+----------+--------------------+-------------------+---------------+------------+\n",
      "|   route_id|service_id|             trip_id|      trip_headsign|trip_short_name|direction_id|\n",
      "+-----------+----------+--------------------+-------------------+---------------+------------+\n",
      "| 1-85-j19-1|  TA+b0001| 2.TA.1-85-j19-1.1.H|Schöftland, Bahnhof|          85003|           0|\n",
      "|1-1-C-j19-1|  TA+b0001|5.TA.1-1-C-j19-1.3.R| Zofingen, Altachen|            108|           1|\n",
      "|1-1-C-j19-1|  TA+b0001|7.TA.1-1-C-j19-1.3.R| Zofingen, Altachen|            112|           1|\n",
      "|1-1-C-j19-1|  TA+b0001|9.TA.1-1-C-j19-1.3.R| Zofingen, Altachen|            116|           1|\n",
      "|1-1-C-j19-1|  TA+b0001|11.TA.1-1-C-j19-1...| Zofingen, Altachen|            120|           1|\n",
      "+-----------+----------+--------------------+-------------------+---------------+------------+\n",
      "only showing top 5 rows"
     ]
    }
   ],
   "source": [
    "%%spark\n",
    "trips = spark.read \\\n",
    "  .option(\"header\", \"true\") \\\n",
    "  .option(\"inferSchema\", \"true\") \\\n",
    "  .csv('/data/sbb/csv/trips/2019/05/08/trips.txt') \\\n",
    "\n",
    "trips.printSchema()\n",
    "trips.show(5)"
   ]
  },
  {
   "cell_type": "code",
   "execution_count": 16,
   "id": "348703bc-9938-4fec-82c7-e14662523706",
   "metadata": {},
   "outputs": [
    {
     "data": {
      "application/vnd.jupyter.widget-view+json": {
       "model_id": "",
       "version_major": 2,
       "version_minor": 0
      },
      "text/plain": [
       "FloatProgress(value=0.0, bar_style='info', description='Progress:', layout=Layout(height='25px', width='50%'),…"
      ]
     },
     "metadata": {},
     "output_type": "display_data"
    }
   ],
   "source": [
    "%%spark\n",
    "filtered_trips = trips \\\n",
    "    .join(filtered_trip_ids, on=\"trip_id\", how=\"inner\")"
   ]
  },
  {
   "cell_type": "code",
   "execution_count": 17,
   "id": "239f61e3-5597-4087-9fc3-7a9df2ce9318",
   "metadata": {},
   "outputs": [
    {
     "data": {
      "application/vnd.jupyter.widget-view+json": {
       "model_id": "",
       "version_major": 2,
       "version_minor": 0
      },
      "text/plain": [
       "FloatProgress(value=0.0, bar_style='info', description='Progress:', layout=Layout(height='25px', width='50%'),…"
      ]
     },
     "metadata": {},
     "output_type": "display_data"
    },
    {
     "name": "stdout",
     "output_type": "stream",
     "text": [
      "160040"
     ]
    }
   ],
   "source": [
    "%%spark\n",
    "print(filtered_trips.count())"
   ]
  },
  {
   "cell_type": "markdown",
   "id": "85ea14d1-3100-4aab-9de2-5b9b39657ecb",
   "metadata": {},
   "source": [
    "### Join trips with calendar"
   ]
  },
  {
   "cell_type": "code",
   "execution_count": 18,
   "id": "c62b475a-f426-42b0-bbe6-5b7ee5d1b65d",
   "metadata": {},
   "outputs": [
    {
     "data": {
      "application/vnd.jupyter.widget-view+json": {
       "model_id": "",
       "version_major": 2,
       "version_minor": 0
      },
      "text/plain": [
       "FloatProgress(value=0.0, bar_style='info', description='Progress:', layout=Layout(height='25px', width='50%'),…"
      ]
     },
     "metadata": {},
     "output_type": "display_data"
    },
    {
     "name": "stdout",
     "output_type": "stream",
     "text": [
      "root\n",
      " |-- service_id: string (nullable = true)\n",
      " |-- monday: integer (nullable = true)\n",
      " |-- tuesday: integer (nullable = true)\n",
      " |-- wednesday: integer (nullable = true)\n",
      " |-- thursday: integer (nullable = true)\n",
      " |-- friday: integer (nullable = true)\n",
      " |-- saturday: integer (nullable = true)\n",
      " |-- sunday: integer (nullable = true)\n",
      " |-- start_date: integer (nullable = true)\n",
      " |-- end_date: integer (nullable = true)\n",
      "\n",
      "+----------+------+-------+---------+--------+------+--------+------+----------+--------+\n",
      "|service_id|monday|tuesday|wednesday|thursday|friday|saturday|sunday|start_date|end_date|\n",
      "+----------+------+-------+---------+--------+------+--------+------+----------+--------+\n",
      "|  TA+b0006|     1|      1|        1|       1|     1|       0|     0|  20181209|20191214|\n",
      "|  TA+b0ch2|     0|      0|        0|       0|     0|       1|     1|  20181209|20191214|\n",
      "|  TA+b0014|     0|      0|        0|       0|     0|       0|     1|  20181209|20191214|\n",
      "|  TA+b000w|     0|      0|        0|       0|     0|       1|     0|  20181209|20191214|\n",
      "|  TA+b001b|     1|      1|        1|       1|     1|       1|     0|  20181209|20191214|\n",
      "+----------+------+-------+---------+--------+------+--------+------+----------+--------+\n",
      "only showing top 5 rows"
     ]
    }
   ],
   "source": [
    "%%spark\n",
    "calendar = spark.read \\\n",
    "  .option(\"header\", \"true\") \\\n",
    "  .option(\"inferSchema\", \"true\") \\\n",
    "  .csv('/data/sbb/csv/calendar/2019/05/08/calendar.txt')\n",
    "\n",
    "calendar.printSchema()\n",
    "calendar.show(5)"
   ]
  },
  {
   "cell_type": "code",
   "execution_count": 19,
   "id": "354b469a-0a0a-4f74-abad-b83e5960bdea",
   "metadata": {},
   "outputs": [
    {
     "data": {
      "application/vnd.jupyter.widget-view+json": {
       "model_id": "",
       "version_major": 2,
       "version_minor": 0
      },
      "text/plain": [
       "FloatProgress(value=0.0, bar_style='info', description='Progress:', layout=Layout(height='25px', width='50%'),…"
      ]
     },
     "metadata": {},
     "output_type": "display_data"
    },
    {
     "name": "stdout",
     "output_type": "stream",
     "text": [
      "+----------+--------------+--------------------+------------+------+-------+---------+--------+------+--------+------+\n",
      "|service_id|      route_id|             trip_id|direction_id|monday|tuesday|wednesday|thursday|friday|saturday|sunday|\n",
      "+----------+--------------+--------------------+------------+------+-------+---------+--------+------+--------+------+\n",
      "|  TA+b0b46|   26-18-j19-1|1.TA.26-18-j19-1.1.H|           0|     1|      1|        1|       1|     1|       0|     0|\n",
      "|  TA+b0a2k|63-138-Y-j19-1|1.TA.63-138-Y-j19...|           0|     0|      0|        1|       0|     0|       0|     0|\n",
      "|  TA+b001t|   26-77-j19-1|10.TA.26-77-j19-1...|           0|     0|      0|        0|       0|     0|       0|     1|\n",
      "|  TA+b07dj|  42-1-Y-j19-1|10.TA.42-1-Y-j19-...|           0|     1|      1|        1|       0|     0|       0|     0|\n",
      "|  TA+b090k| 80-55-Y-j19-1|10.TA.80-55-Y-j19...|           0|     0|      0|        0|       0|     0|       1|     0|\n",
      "+----------+--------------+--------------------+------------+------+-------+---------+--------+------+--------+------+\n",
      "only showing top 5 rows\n",
      "\n",
      "160040"
     ]
    }
   ],
   "source": [
    "%%spark \n",
    "\n",
    "filtered_trips_new = filtered_trips.select(\"route_id\", \"service_id\", \"trip_id\", \"direction_id\") \\\n",
    "    .join(calendar.select(\"service_id\", \"monday\", \"tuesday\", \"wednesday\", \"thursday\", \"friday\", \"saturday\", \"sunday\"), \n",
    "          on=\"service_id\", how=\"inner\"\n",
    "         )\n",
    "\n",
    "filtered_trips_new.show(5)\n",
    "print(filtered_trips_new.count())"
   ]
  },
  {
   "cell_type": "code",
   "execution_count": null,
   "id": "e078a463-5088-40f6-b178-0873b5e912cf",
   "metadata": {},
   "outputs": [],
   "source": []
  },
  {
   "cell_type": "code",
   "execution_count": null,
   "id": "1a9829a1-fe9c-4a09-8957-36a879e1a7ee",
   "metadata": {},
   "outputs": [],
   "source": []
  },
  {
   "cell_type": "markdown",
   "id": "04c1f775-8183-44d2-b0f1-f8303353d8a4",
   "metadata": {},
   "source": [
    "## Write filtered data into HDFS"
   ]
  },
  {
   "cell_type": "code",
   "execution_count": 48,
   "id": "2684cdf3-737b-42bc-b2a8-173706da0860",
   "metadata": {},
   "outputs": [
    {
     "data": {
      "application/vnd.jupyter.widget-view+json": {
       "model_id": "",
       "version_major": 2,
       "version_minor": 0
      },
      "text/plain": [
       "FloatProgress(value=0.0, bar_style='info', description='Progress:', layout=Layout(height='25px', width='50%'),…"
      ]
     },
     "metadata": {},
     "output_type": "display_data"
    }
   ],
   "source": [
    "%%spark\n",
    "\n",
    "stop_times_df = filtered_stop_times.toDF(*filtered_stop_times.columns)\n",
    "stop_times_df.write.parquet(\"/user/tshen/final-assn/parquet/stop_times\", mode=\"overwrite\")\n",
    "\n",
    "trips_df = filtered_trips_new.toDF(*filtered_trips_new.columns)\n",
    "trips_df.write.parquet(\"/user/tshen/final-assn/parquet/trips\", mode=\"overwrite\")"
   ]
  },
  {
   "cell_type": "code",
   "execution_count": 32,
   "id": "c0da4388-a716-4f83-8d68-10677e7cbf11",
   "metadata": {},
   "outputs": [
    {
     "data": {
      "application/vnd.jupyter.widget-view+json": {
       "model_id": "",
       "version_major": 2,
       "version_minor": 0
      },
      "text/plain": [
       "FloatProgress(value=0.0, bar_style='info', description='Progress:', layout=Layout(height='25px', width='50%'),…"
      ]
     },
     "metadata": {},
     "output_type": "display_data"
    },
    {
     "name": "stdout",
     "output_type": "stream",
     "text": [
      "<class 'pandas.core.frame.DataFrame'>\n",
      "RangeIndex: 2166674 entries, 0 to 2166673\n",
      "Data columns (total 4 columns):\n",
      "trip_id           object\n",
      "arrival_time      object\n",
      "departure_time    object\n",
      "stop_id           object\n",
      "dtypes: object(4)\n",
      "memory usage: 66.1+ MB\n",
      "<class 'pandas.core.frame.DataFrame'>\n",
      "RangeIndex: 160040 entries, 0 to 160039\n",
      "Data columns (total 11 columns):\n",
      "route_id        160040 non-null object\n",
      "trip_id         160040 non-null object\n",
      "direction_id    160040 non-null object\n",
      "service_id      160040 non-null int32\n",
      "monday          160040 non-null int32\n",
      "tuesday         160040 non-null int32\n",
      "wednesday       160040 non-null int32\n",
      "thursday        160040 non-null int32\n",
      "friday          160040 non-null int32\n",
      "saturday        160040 non-null int32\n",
      "sunday          160040 non-null int32\n",
      "dtypes: int32(8), object(3)\n",
      "memory usage: 8.5+ MB"
     ]
    }
   ],
   "source": [
    "%%spark\n",
    "\n",
    "# check the memory usage is reasonable\n",
    "stop_times_df.toPandas().info() # 66MB\n",
    "trips_df.toPandas().info() # 8.5MB"
   ]
  },
  {
   "cell_type": "code",
   "execution_count": null,
   "id": "8745a580-4ed3-45e2-b3bf-225b36310b22",
   "metadata": {},
   "outputs": [],
   "source": []
  }
 ],
 "metadata": {
  "kernelspec": {
   "display_name": "Python 3",
   "language": "python",
   "name": "python3"
  },
  "language_info": {
   "codemirror_mode": {
    "name": "ipython",
    "version": 3
   },
   "file_extension": ".py",
   "mimetype": "text/x-python",
   "name": "python",
   "nbconvert_exporter": "python",
   "pygments_lexer": "ipython3",
   "version": "3.9.7"
  }
 },
 "nbformat": 4,
 "nbformat_minor": 5
}
