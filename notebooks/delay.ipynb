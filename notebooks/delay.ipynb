{
 "cells": [
  {
   "cell_type": "code",
   "execution_count": 1,
   "id": "05642f97-6a00-4d3c-833c-08e9d69b69f1",
   "metadata": {},
   "outputs": [
    {
     "data": {
      "text/html": [
       "Current session configs: <tt>{'name': 'ayu-final-istaden', 'executorMemory': '4G', 'executorCores': 4, 'numExecutors': 10, 'driverMemory': '4G', 'kind': 'pyspark'}</tt><br>"
      ],
      "text/plain": [
       "<IPython.core.display.HTML object>"
      ]
     },
     "metadata": {},
     "output_type": "display_data"
    },
    {
     "data": {
      "text/html": [
       "<table>\n",
       "<tr><th>ID</th><th>YARN Application ID</th><th>Kind</th><th>State</th><th>Spark UI</th><th>Driver log</th><th>User</th><th>Current session?</th></tr><tr><td>6324</td><td>application_1652960972356_1733</td><td>pyspark</td><td>idle</td><td><a target=\"_blank\" href=\"http://iccluster029.iccluster.epfl.ch:8088/proxy/application_1652960972356_1733/\">Link</a></td><td><a target=\"_blank\" href=\"http://iccluster055.iccluster.epfl.ch:8042/node/containerlogs/container_e05_1652960972356_1733_01_000001/eric\">Link</a></td><td>None</td><td></td></tr><tr><td>6328</td><td>application_1652960972356_1739</td><td>pyspark</td><td>idle</td><td><a target=\"_blank\" href=\"http://iccluster029.iccluster.epfl.ch:8088/proxy/application_1652960972356_1739/\">Link</a></td><td><a target=\"_blank\" href=\"http://iccluster042.iccluster.epfl.ch:8042/node/containerlogs/container_e05_1652960972356_1739_01_000001/eric\">Link</a></td><td>None</td><td></td></tr><tr><td>6329</td><td>application_1652960972356_1740</td><td>pyspark</td><td>idle</td><td><a target=\"_blank\" href=\"http://iccluster029.iccluster.epfl.ch:8088/proxy/application_1652960972356_1740/\">Link</a></td><td><a target=\"_blank\" href=\"http://iccluster058.iccluster.epfl.ch:8042/node/containerlogs/container_e05_1652960972356_1740_01_000001/eric\">Link</a></td><td>None</td><td></td></tr><tr><td>6330</td><td>application_1652960972356_1742</td><td>pyspark</td><td>idle</td><td><a target=\"_blank\" href=\"http://iccluster029.iccluster.epfl.ch:8088/proxy/application_1652960972356_1742/\">Link</a></td><td><a target=\"_blank\" href=\"http://iccluster056.iccluster.epfl.ch:8042/node/containerlogs/container_e05_1652960972356_1742_01_000001/eric\">Link</a></td><td>None</td><td></td></tr><tr><td>6331</td><td>application_1652960972356_1743</td><td>pyspark</td><td>idle</td><td><a target=\"_blank\" href=\"http://iccluster029.iccluster.epfl.ch:8088/proxy/application_1652960972356_1743/\">Link</a></td><td><a target=\"_blank\" href=\"http://iccluster056.iccluster.epfl.ch:8042/node/containerlogs/container_e05_1652960972356_1743_01_000001/eric\">Link</a></td><td>None</td><td></td></tr><tr><td>6332</td><td>application_1652960972356_1744</td><td>pyspark</td><td>idle</td><td><a target=\"_blank\" href=\"http://iccluster029.iccluster.epfl.ch:8088/proxy/application_1652960972356_1744/\">Link</a></td><td><a target=\"_blank\" href=\"http://iccluster052.iccluster.epfl.ch:8042/node/containerlogs/container_e05_1652960972356_1744_01_000001/eric\">Link</a></td><td>None</td><td></td></tr><tr><td>6334</td><td>application_1652960972356_1746</td><td>pyspark</td><td>idle</td><td><a target=\"_blank\" href=\"http://iccluster029.iccluster.epfl.ch:8088/proxy/application_1652960972356_1746/\">Link</a></td><td><a target=\"_blank\" href=\"http://iccluster052.iccluster.epfl.ch:8042/node/containerlogs/container_e05_1652960972356_1746_01_000001/eric\">Link</a></td><td>None</td><td></td></tr><tr><td>6335</td><td>application_1652960972356_1747</td><td>pyspark</td><td>idle</td><td><a target=\"_blank\" href=\"http://iccluster029.iccluster.epfl.ch:8088/proxy/application_1652960972356_1747/\">Link</a></td><td><a target=\"_blank\" href=\"http://iccluster052.iccluster.epfl.ch:8042/node/containerlogs/container_e05_1652960972356_1747_01_000001/eric\">Link</a></td><td>None</td><td></td></tr><tr><td>6336</td><td>application_1652960972356_1748</td><td>pyspark</td><td>busy</td><td><a target=\"_blank\" href=\"http://iccluster029.iccluster.epfl.ch:8088/proxy/application_1652960972356_1748/\">Link</a></td><td><a target=\"_blank\" href=\"http://iccluster057.iccluster.epfl.ch:8042/node/containerlogs/container_e05_1652960972356_1748_01_000001/eric\">Link</a></td><td>None</td><td></td></tr><tr><td>6338</td><td>application_1652960972356_1750</td><td>pyspark</td><td>idle</td><td><a target=\"_blank\" href=\"http://iccluster029.iccluster.epfl.ch:8088/proxy/application_1652960972356_1750/\">Link</a></td><td><a target=\"_blank\" href=\"http://iccluster056.iccluster.epfl.ch:8042/node/containerlogs/container_e05_1652960972356_1750_01_000001/eric\">Link</a></td><td>None</td><td></td></tr><tr><td>6339</td><td>application_1652960972356_1751</td><td>pyspark</td><td>idle</td><td><a target=\"_blank\" href=\"http://iccluster029.iccluster.epfl.ch:8088/proxy/application_1652960972356_1751/\">Link</a></td><td><a target=\"_blank\" href=\"http://iccluster057.iccluster.epfl.ch:8042/node/containerlogs/container_e05_1652960972356_1751_01_000001/eric\">Link</a></td><td>None</td><td></td></tr><tr><td>6340</td><td>application_1652960972356_1752</td><td>pyspark</td><td>idle</td><td><a target=\"_blank\" href=\"http://iccluster029.iccluster.epfl.ch:8088/proxy/application_1652960972356_1752/\">Link</a></td><td><a target=\"_blank\" href=\"http://iccluster057.iccluster.epfl.ch:8042/node/containerlogs/container_e05_1652960972356_1752_01_000001/eric\">Link</a></td><td>None</td><td></td></tr><tr><td>6341</td><td>application_1652960972356_1753</td><td>pyspark</td><td>idle</td><td><a target=\"_blank\" href=\"http://iccluster029.iccluster.epfl.ch:8088/proxy/application_1652960972356_1753/\">Link</a></td><td><a target=\"_blank\" href=\"http://iccluster044.iccluster.epfl.ch:8042/node/containerlogs/container_e05_1652960972356_1753_01_000001/eric\">Link</a></td><td>None</td><td></td></tr><tr><td>6342</td><td>application_1652960972356_1754</td><td>pyspark</td><td>idle</td><td><a target=\"_blank\" href=\"http://iccluster029.iccluster.epfl.ch:8088/proxy/application_1652960972356_1754/\">Link</a></td><td><a target=\"_blank\" href=\"http://iccluster057.iccluster.epfl.ch:8042/node/containerlogs/container_e05_1652960972356_1754_01_000001/eric\">Link</a></td><td>None</td><td></td></tr></table>"
      ],
      "text/plain": [
       "<IPython.core.display.HTML object>"
      ]
     },
     "metadata": {},
     "output_type": "display_data"
    }
   ],
   "source": [
    "%%local\n",
    "import os\n",
    "username = os.environ['RENKU_USERNAME']\n",
    "get_ipython().run_cell_magic('configure', line=\"-f\", cell='{ \"name\":\"%s-final-istaden\", \"executorMemory\":\"4G\", \"executorCores\":4, \"numExecutors\":10, \"driverMemory\": \"4G\" }' % username)"
   ]
  },
  {
   "cell_type": "code",
   "execution_count": 2,
   "id": "44158046-18b0-42f5-be6b-1c9d9e0d72bf",
   "metadata": {},
   "outputs": [
    {
     "name": "stdout",
     "output_type": "stream",
     "text": [
      "Starting Spark application\n"
     ]
    },
    {
     "data": {
      "text/html": [
       "<table>\n",
       "<tr><th>ID</th><th>YARN Application ID</th><th>Kind</th><th>State</th><th>Spark UI</th><th>Driver log</th><th>User</th><th>Current session?</th></tr><tr><td>6346</td><td>application_1652960972356_1760</td><td>pyspark</td><td>idle</td><td><a target=\"_blank\" href=\"http://iccluster029.iccluster.epfl.ch:8088/proxy/application_1652960972356_1760/\">Link</a></td><td><a target=\"_blank\" href=\"http://iccluster044.iccluster.epfl.ch:8042/node/containerlogs/container_e05_1652960972356_1760_01_000001/eric\">Link</a></td><td>None</td><td>✔</td></tr></table>"
      ],
      "text/plain": [
       "<IPython.core.display.HTML object>"
      ]
     },
     "metadata": {},
     "output_type": "display_data"
    },
    {
     "data": {
      "application/vnd.jupyter.widget-view+json": {
       "model_id": "",
       "version_major": 2,
       "version_minor": 0
      },
      "text/plain": [
       "FloatProgress(value=0.0, bar_style='info', description='Progress:', layout=Layout(height='25px', width='50%'),…"
      ]
     },
     "metadata": {},
     "output_type": "display_data"
    },
    {
     "name": "stdout",
     "output_type": "stream",
     "text": [
      "SparkSession available as 'spark'.\n"
     ]
    },
    {
     "data": {
      "application/vnd.jupyter.widget-view+json": {
       "model_id": "",
       "version_major": 2,
       "version_minor": 0
      },
      "text/plain": [
       "FloatProgress(value=0.0, bar_style='info', description='Progress:', layout=Layout(height='25px', width='50%'),…"
      ]
     },
     "metadata": {},
     "output_type": "display_data"
    },
    {
     "name": "stdout",
     "output_type": "stream",
     "text": [
      "Successfully passed 'username' as 'username' to Spark kernel"
     ]
    }
   ],
   "source": [
    "%%send_to_spark -i username -t str -n username"
   ]
  },
  {
   "cell_type": "code",
   "execution_count": 3,
   "id": "aeb884bb-c5c9-4828-8cd7-aec637a3b1ae",
   "metadata": {},
   "outputs": [
    {
     "data": {
      "application/vnd.jupyter.widget-view+json": {
       "model_id": "",
       "version_major": 2,
       "version_minor": 0
      },
      "text/plain": [
       "FloatProgress(value=0.0, bar_style='info', description='Progress:', layout=Layout(height='25px', width='50%'),…"
      ]
     },
     "metadata": {},
     "output_type": "display_data"
    }
   ],
   "source": [
    "import pyspark.sql.functions as F\n",
    "\n",
    "# Visualizing delay distributions\n",
    "import matplotlib\n",
    "matplotlib.use('agg')\n",
    "import matplotlib.pyplot as plt\n",
    "\n",
    "plt.rcParams['figure.figsize'] = (30,8)\n",
    "plt.rcParams['font.size'] = 12\n",
    "plt.style.use('fivethirtyeight')"
   ]
  },
  {
   "cell_type": "code",
   "execution_count": 4,
   "id": "d8b88788-ef4c-4e9b-885e-e2b2624f2af6",
   "metadata": {},
   "outputs": [
    {
     "data": {
      "application/vnd.jupyter.widget-view+json": {
       "model_id": "",
       "version_major": 2,
       "version_minor": 0
      },
      "text/plain": [
       "FloatProgress(value=0.0, bar_style='info', description='Progress:', layout=Layout(height='25px', width='50%'),…"
      ]
     },
     "metadata": {},
     "output_type": "display_data"
    }
   ],
   "source": [
    "df = spark.read.orc('/data/sbb/orc/istdaten')\n",
    "df = df.selectExpr(  'betriebstag as date',\n",
    "                     'produkt_id as transport_type',\n",
    "                     'haltestellen_name as stop_name',\n",
    "                     'ankunftszeit as arrival_scheduled',\n",
    "                     'an_prognose as arrival_actual',\n",
    "                     'an_prognose_status as delay_type',\n",
    "                     'durchfahrt_tf as stop_skip',\n",
    "                     'bpuic as stop_id',\n",
    "                     'linien_text as line_name',\n",
    "                     'verkehrsmittel_text as line_type',\n",
    "                     'linien_id as line_id'\n",
    "                  )"
   ]
  },
  {
   "cell_type": "code",
   "execution_count": 5,
   "id": "8830b0e3-8d74-488a-b2fe-df344e80e545",
   "metadata": {},
   "outputs": [
    {
     "data": {
      "application/vnd.jupyter.widget-view+json": {
       "model_id": "",
       "version_major": 2,
       "version_minor": 0
      },
      "text/plain": [
       "FloatProgress(value=0.0, bar_style='info', description='Progress:', layout=Layout(height='25px', width='50%'),…"
      ]
     },
     "metadata": {},
     "output_type": "display_data"
    }
   ],
   "source": [
    "# Reachable stops with a 15km radius of Zurich HB\n",
    "reachable_stops_path = \"/user/tshen/final-assn/parquet/stop_times\"\n",
    "stop_id_reachable = spark.read.parquet(reachable_stops_path)\n",
    "stop_id_reachable = stop_id_reachable.withColumn(\"stop_id\",F.split(stop_id_reachable.stop_id,':')[0]).drop(\"stop_name\")"
   ]
  },
  {
   "cell_type": "code",
   "execution_count": null,
   "id": "d111b6eb-18f3-4646-ac58-1328486d3649",
   "metadata": {},
   "outputs": [],
   "source": [
    "reachable_stops_path"
   ]
  },
  {
   "cell_type": "code",
   "execution_count": 6,
   "id": "b2f3fd04-b803-4887-a44c-a87dc3dbdeb0",
   "metadata": {},
   "outputs": [
    {
     "data": {
      "application/vnd.jupyter.widget-view+json": {
       "model_id": "",
       "version_major": 2,
       "version_minor": 0
      },
      "text/plain": [
       "FloatProgress(value=0.0, bar_style='info', description='Progress:', layout=Layout(height='25px', width='50%'),…"
      ]
     },
     "metadata": {},
     "output_type": "display_data"
    }
   ],
   "source": [
    "# Keep only rows where measured time of arrival is \"GESCHAETZT\" \n",
    "df = df.filter('an_prognose_status = \"GESCHAETZT\"')\n",
    "\n",
    "# convert day of the trips between\n",
    "df = df.withColumn('date', F.to_timestamp('date', \"dd.MM.yyyy\"))\n",
    "df = df.withColumn('arrival_scheduled', F.to_timestamp('arrival_scheduled', \"dd.MM.yyyy HH:mm\"))\n",
    "df = df.withColumn('arrival_actual', F.to_timestamp('arrival_actual', 'dd.MM.yyyy HH:mm:ss'))    \n",
    "\n",
    "# keep only rows for stops that are not skipped\n",
    "df = df.filter(df.stop_skip == False)\n",
    "\n",
    "# keep only rows for stops during the week\n",
    "df = df.withColumn(\"day_of_week\",F.dayofweek(df.date))\n",
    "df = df.filter(df.day_of_week.between(2,6))\n",
    "\n",
    "# hours between 8am and 8pm\n",
    "min_day_hour, max_day_hour = 8, 20\n",
    "df = df.filter(F.hour(F.col('arrival_scheduled')).cast('int').between(min_day_hour, max_day_hour))\n",
    "\n",
    "# only keep stops within the 15km radius\n",
    "df = df.join(stop_id_reachable,on=\"stop_id\")\n",
    "\n",
    "# add hour column\n",
    "df = df.withColumn(\"hour\",F.hour(F.col(\"arrival_scheduled\")))\n",
    "\n",
    "# Remove the rows where transport_type is null\n",
    "df = df.where((F.col(\"transport_type\")==\"Tram\") | (F.col(\"transport_type\")==\"Zug\") | (F.col(\"transport_type\")==\"Bus\")).cache()"
   ]
  },
  {
   "cell_type": "code",
   "execution_count": 7,
   "id": "ed7e756d-94d8-41ab-a014-b642676475be",
   "metadata": {},
   "outputs": [
    {
     "data": {
      "application/vnd.jupyter.widget-view+json": {
       "model_id": "",
       "version_major": 2,
       "version_minor": 0
      },
      "text/plain": [
       "FloatProgress(value=0.0, bar_style='info', description='Progress:', layout=Layout(height='25px', width='50%'),…"
      ]
     },
     "metadata": {},
     "output_type": "display_data"
    }
   ],
   "source": [
    "# Helper function to remove negative delays\n",
    "@F.udf\n",
    "def relu(x):\n",
    "    return max(x, 0)\n",
    "\n",
    "df = df.withColumn(\"delay\", relu((F.col(\"arrival_actual\").cast(\"long\") - F.col(\"arrival_scheduled\").cast(\"long\"))))\n",
    "df = df.where(~(F.col('delay').isNull())).cache()"
   ]
  },
  {
   "cell_type": "code",
   "execution_count": 8,
   "id": "0d837cf1-7137-4ca1-83d9-2e157b8e244a",
   "metadata": {},
   "outputs": [
    {
     "data": {
      "application/vnd.jupyter.widget-view+json": {
       "model_id": "",
       "version_major": 2,
       "version_minor": 0
      },
      "text/plain": [
       "FloatProgress(value=0.0, bar_style='info', description='Progress:', layout=Layout(height='25px', width='50%'),…"
      ]
     },
     "metadata": {},
     "output_type": "display_data"
    }
   ],
   "source": [
    "# statistics type of transport average delays\n",
    "transport_avg_delays = df.groupby(\"transport_type\").agg(F.mean('delay')).cache()\n",
    "transport_avg_delays = transport_avg_delays.withColumnRenamed(\"avg(delay)\", \"avg_delay\")"
   ]
  },
  {
   "cell_type": "code",
   "execution_count": 10,
   "id": "b86c2521-4e24-4aca-a7cb-b8e9b28e537a",
   "metadata": {},
   "outputs": [
    {
     "data": {
      "application/vnd.jupyter.widget-view+json": {
       "model_id": "",
       "version_major": 2,
       "version_minor": 0
      },
      "text/plain": [
       "FloatProgress(value=0.0, bar_style='info', description='Progress:', layout=Layout(height='25px', width='50%'),…"
      ]
     },
     "metadata": {},
     "output_type": "display_data"
    }
   ],
   "source": [
    "hour_avg_delays = df.groupby(\"hour\").agg(F.mean('delay')).cache()\n",
    "hour_avg_delays = hour_avg_delays.withColumnRenamed(\"avg(delay)\",\"avg_delay\")"
   ]
  },
  {
   "cell_type": "code",
   "execution_count": 11,
   "id": "29ac6e90-f5d5-4671-aeaa-99a5555b7422",
   "metadata": {},
   "outputs": [
    {
     "data": {
      "application/vnd.jupyter.widget-view+json": {
       "model_id": "",
       "version_major": 2,
       "version_minor": 0
      },
      "text/plain": [
       "FloatProgress(value=0.0, bar_style='info', description='Progress:', layout=Layout(height='25px', width='50%'),…"
      ]
     },
     "metadata": {},
     "output_type": "display_data"
    }
   ],
   "source": [
    "# More to less general cases\n",
    "default = df.select(F.mean('delay').alias('avg_delay')).cache()\n",
    "t_type_line = df.groupBy('transport_type', 'line_name').agg(F.mean('delay').alias('avg_delay')).cache()\n",
    "t_type_line_hour = df.groupby(\"transport_type\", \"line_name\", \"hour\").agg(F.mean('delay').alias('avg_delay')).cache()\n",
    "t_type_line_hour_stop = df.groupby(\"transport_type\", \"line_name\", \"hour\", \"stop_id\").agg(F.mean('delay').alias('avg_delay')).cache()"
   ]
  }
 ],
 "metadata": {
  "kernelspec": {
   "display_name": "PySpark",
   "language": "python",
   "name": "pysparkkernel"
  },
  "language_info": {
   "codemirror_mode": {
    "name": "python",
    "version": 3
   },
   "file_extension": ".py",
   "mimetype": "text/x-python",
   "name": "pyspark",
   "pygments_lexer": "python3"
  }
 },
 "nbformat": 4,
 "nbformat_minor": 5
}
