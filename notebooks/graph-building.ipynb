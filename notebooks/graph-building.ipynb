{
 "cells": [
  {
   "cell_type": "markdown",
   "id": "64029330-d9b7-435b-9a1d-4808a722f9e9",
   "metadata": {},
   "source": [
    "# Graph Building\n",
    "\n",
    "We use [NetworkX](https://networkx.org/) for graph manipulation.\n",
    "\n",
    "We use the timetable data to create the graph. \n",
    "- Nodes represent stops (`stop_id`). \n",
    "- Edges (directed) represent trips. There can exists multiple edges between two nodes. \n",
    "  \n",
    "  edge attributes:\n",
    "  - `trip_id`\n",
    "  - `departure_time`\n",
    "  - `arrival_time`\n",
    "  - `monday`, ..., `sunday`: bool\n",
    "\n",
    "We also add walking edges between stops which are closer than 500m."
   ]
  },
  {
   "cell_type": "markdown",
   "id": "9be0795c-3385-47df-b738-9c25cb6c2c79",
   "metadata": {},
   "source": [
    "## Load data"
   ]
  },
  {
   "cell_type": "code",
   "execution_count": 1,
   "id": "daee2ae1-b3b8-4b2a-9e39-f5daf02b0362",
   "metadata": {},
   "outputs": [],
   "source": [
    "from hdfs3 import HDFileSystem\n",
    "import pandas as pd\n",
    "\n",
    "hdfs = HDFileSystem(user='eric') \n",
    "\n",
    "def read_hdfs(path):\n",
    "    files = hdfs.glob(path)\n",
    "    dfs = []\n",
    "    for file in files:\n",
    "        with hdfs.open(file) as f:\n",
    "            dfs.append(pd.read_parquet(f))\n",
    "    return pd.concat(dfs)\n",
    "\n",
    "hdfs.ls(\"/user/tshen/final-assn/parquet\")\n",
    "\n",
    "trips = read_hdfs('/user/tshen/final-assn/parquet/trips/*.parquet')\n",
    "stop_times = read_hdfs('/user/tshen/final-assn/parquet/stop_times/*.parquet')"
   ]
  },
  {
   "cell_type": "code",
   "execution_count": 2,
   "id": "907d6000-43d3-48d0-b087-27390f5afb28",
   "metadata": {},
   "outputs": [
    {
     "name": "stdout",
     "output_type": "stream",
     "text": [
      "<class 'pandas.core.frame.DataFrame'>\n",
      "Int64Index: 160040 entries, 0 to 779\n",
      "Data columns (total 11 columns):\n",
      " #   Column        Non-Null Count   Dtype \n",
      "---  ------        --------------   ----- \n",
      " 0   service_id    160040 non-null  object\n",
      " 1   route_id      160040 non-null  object\n",
      " 2   trip_id       160040 non-null  object\n",
      " 3   direction_id  160040 non-null  int32 \n",
      " 4   monday        160040 non-null  int32 \n",
      " 5   tuesday       160040 non-null  int32 \n",
      " 6   wednesday     160040 non-null  int32 \n",
      " 7   thursday      160040 non-null  int32 \n",
      " 8   friday        160040 non-null  int32 \n",
      " 9   saturday      160040 non-null  int32 \n",
      " 10  sunday        160040 non-null  int32 \n",
      "dtypes: int32(8), object(3)\n",
      "memory usage: 9.8+ MB\n",
      "<class 'pandas.core.frame.DataFrame'>\n",
      "Int64Index: 2166674 entries, 0 to 4125\n",
      "Data columns (total 4 columns):\n",
      " #   Column          Dtype \n",
      "---  ------          ----- \n",
      " 0   stop_id         object\n",
      " 1   trip_id         object\n",
      " 2   arrival_time    object\n",
      " 3   departure_time  object\n",
      "dtypes: object(4)\n",
      "memory usage: 82.7+ MB\n"
     ]
    }
   ],
   "source": [
    "trips.info()\n",
    "stop_times.info()"
   ]
  },
  {
   "cell_type": "code",
   "execution_count": 3,
   "id": "56614a0e-b959-4c2b-bc1e-d73af3335386",
   "metadata": {},
   "outputs": [],
   "source": [
    "## Build Graph"
   ]
  },
  {
   "cell_type": "code",
   "execution_count": 4,
   "id": "61d1e446-e975-44d2-8a8c-cc53de7a9a23",
   "metadata": {},
   "outputs": [],
   "source": [
    "import networkx as nx"
   ]
  },
  {
   "cell_type": "code",
   "execution_count": 5,
   "id": "8784c6a0-a30c-404f-8c97-f1c1b05c3e25",
   "metadata": {},
   "outputs": [],
   "source": [
    "G = nx.MultiDiGraph()"
   ]
  },
  {
   "cell_type": "code",
   "execution_count": 6,
   "id": "65558add-be55-450e-9e9c-594834b6c5a4",
   "metadata": {},
   "outputs": [
    {
     "name": "stdout",
     "output_type": "stream",
     "text": [
      "   stop_id               trip_id arrival_time departure_time\n",
      "0  8587020  1.TA.1-N31-j19-1.1.R     25:25:00       25:25:00\n",
      "1  8590535  1.TA.1-N31-j19-1.1.R     25:27:00       25:27:00\n",
      "2  8590222  1.TA.1-N31-j19-1.1.R     25:27:00       25:27:00\n",
      "3  8590218  1.TA.1-N31-j19-1.1.R     25:28:00       25:28:00\n",
      "4  8590521  1.TA.1-N31-j19-1.1.R     25:30:00       25:30:00\n",
      "  service_id        route_id                   trip_id  direction_id  monday  \\\n",
      "0   TA+b0b46     26-18-j19-1      1.TA.26-18-j19-1.1.H             0       1   \n",
      "1   TA+b0a2k  63-138-Y-j19-1   1.TA.63-138-Y-j19-1.1.H             0       0   \n",
      "2   TA+b001t     26-77-j19-1     10.TA.26-77-j19-1.1.H             0       0   \n",
      "3   TA+b07dj    42-1-Y-j19-1    10.TA.42-1-Y-j19-1.9.H             0       1   \n",
      "4   TA+b090k   80-55-Y-j19-1  10.TA.80-55-Y-j19-1.10.H             0       0   \n",
      "\n",
      "   tuesday  wednesday  thursday  friday  saturday  sunday  \n",
      "0        1          1         1       1         0       0  \n",
      "1        0          1         0       0         0       0  \n",
      "2        0          0         0       0         0       1  \n",
      "3        1          1         0       0         0       0  \n",
      "4        0          0         0       0         1       0  \n",
      "<class 'pandas.core.frame.DataFrame'>\n",
      "Int64Index: 2166674 entries, 0 to 2166673\n",
      "Data columns (total 14 columns):\n",
      " #   Column          Dtype \n",
      "---  ------          ----- \n",
      " 0   stop_id         object\n",
      " 1   trip_id         object\n",
      " 2   arrival_time    object\n",
      " 3   departure_time  object\n",
      " 4   service_id      object\n",
      " 5   route_id        object\n",
      " 6   direction_id    int32 \n",
      " 7   monday          int32 \n",
      " 8   tuesday         int32 \n",
      " 9   wednesday       int32 \n",
      " 10  thursday        int32 \n",
      " 11  friday          int32 \n",
      " 12  saturday        int32 \n",
      " 13  sunday          int32 \n",
      "dtypes: int32(8), object(6)\n",
      "memory usage: 181.8+ MB\n",
      "Pandas(Index=0, stop_id='8587020', trip_id='1.TA.1-N31-j19-1.1.R', arrival_time='25:25:00', departure_time='25:25:00', service_id='TA+b04rc', route_id='1-N31-j19-1', direction_id=1, monday=0, tuesday=0, wednesday=0, thursday=0, friday=1, saturday=1, sunday=0)\n",
      "Pandas(Index=1, stop_id='8590535', trip_id='1.TA.1-N31-j19-1.1.R', arrival_time='25:27:00', departure_time='25:27:00', service_id='TA+b04rc', route_id='1-N31-j19-1', direction_id=1, monday=0, tuesday=0, wednesday=0, thursday=0, friday=1, saturday=1, sunday=0)\n",
      "Pandas(Index=2, stop_id='8590222', trip_id='1.TA.1-N31-j19-1.1.R', arrival_time='25:27:00', departure_time='25:27:00', service_id='TA+b04rc', route_id='1-N31-j19-1', direction_id=1, monday=0, tuesday=0, wednesday=0, thursday=0, friday=1, saturday=1, sunday=0)\n",
      "Pandas(Index=3, stop_id='8590218', trip_id='1.TA.1-N31-j19-1.1.R', arrival_time='25:28:00', departure_time='25:28:00', service_id='TA+b04rc', route_id='1-N31-j19-1', direction_id=1, monday=0, tuesday=0, wednesday=0, thursday=0, friday=1, saturday=1, sunday=0)\n",
      "Pandas(Index=4, stop_id='8590521', trip_id='1.TA.1-N31-j19-1.1.R', arrival_time='25:30:00', departure_time='25:30:00', service_id='TA+b04rc', route_id='1-N31-j19-1', direction_id=1, monday=0, tuesday=0, wednesday=0, thursday=0, friday=1, saturday=1, sunday=0)\n",
      "Pandas(Index=5, stop_id='8590220', trip_id='1.TA.1-N31-j19-1.1.R', arrival_time='25:31:00', departure_time='25:31:00', service_id='TA+b04rc', route_id='1-N31-j19-1', direction_id=1, monday=0, tuesday=0, wednesday=0, thursday=0, friday=1, saturday=1, sunday=0)\n",
      "Pandas(Index=6, stop_id='8590201', trip_id='1.TA.1-N31-j19-1.1.R', arrival_time='25:32:00', departure_time='25:32:00', service_id='TA+b04rc', route_id='1-N31-j19-1', direction_id=1, monday=0, tuesday=0, wednesday=0, thursday=0, friday=1, saturday=1, sunday=0)\n",
      "Pandas(Index=7, stop_id='8590202', trip_id='1.TA.1-N31-j19-1.1.R', arrival_time='25:32:00', departure_time='25:32:00', service_id='TA+b04rc', route_id='1-N31-j19-1', direction_id=1, monday=0, tuesday=0, wednesday=0, thursday=0, friday=1, saturday=1, sunday=0)\n",
      "Pandas(Index=8, stop_id='8590205', trip_id='1.TA.1-N31-j19-1.1.R', arrival_time='25:33:00', departure_time='25:33:00', service_id='TA+b04rc', route_id='1-N31-j19-1', direction_id=1, monday=0, tuesday=0, wednesday=0, thursday=0, friday=1, saturday=1, sunday=0)\n",
      "Pandas(Index=9, stop_id='8590241', trip_id='1.TA.1-N31-j19-1.1.R', arrival_time='25:34:00', departure_time='25:34:00', service_id='TA+b04rc', route_id='1-N31-j19-1', direction_id=1, monday=0, tuesday=0, wednesday=0, thursday=0, friday=1, saturday=1, sunday=0)\n"
     ]
    }
   ],
   "source": [
    "for row in stop_times.merge(trips, on='trip_id', how='inner').itertuples():\n",
    "    # TODO"
   ]
  },
  {
   "cell_type": "code",
   "execution_count": 8,
   "id": "e3f3c4b3-8571-46a9-ada8-6f8a852957ee",
   "metadata": {},
   "outputs": [
    {
     "name": "stdout",
     "output_type": "stream",
     "text": [
      "0\n",
      "0\n"
     ]
    }
   ],
   "source": [
    "print(len(G.nodes))\n",
    "print(len(G.edges))"
   ]
  }
 ],
 "metadata": {
  "kernelspec": {
   "display_name": "Python 3",
   "language": "python",
   "name": "python3"
  },
  "language_info": {
   "codemirror_mode": {
    "name": "ipython",
    "version": 3
   },
   "file_extension": ".py",
   "mimetype": "text/x-python",
   "name": "python",
   "nbconvert_exporter": "python",
   "pygments_lexer": "ipython3",
   "version": "3.9.7"
  }
 },
 "nbformat": 4,
 "nbformat_minor": 5
}
