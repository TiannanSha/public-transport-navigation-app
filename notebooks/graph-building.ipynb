{
 "cells": [
  {
   "cell_type": "markdown",
   "id": "64029330-d9b7-435b-9a1d-4808a722f9e9",
   "metadata": {},
   "source": [
    "# Graph Building\n",
    "\n",
    "We use [NetworkX](https://networkx.org/) for graph manipulation.\n",
    "\n",
    "We use the timetable data to create the graph. \n",
    "- Nodes represent stops (`stop_id`). \n",
    "- Edges (directed) represent trips. There can exists multiple edges between two nodes. \n",
    "  \n",
    "  edge attributes:\n",
    "  - `trip_id`\n",
    "  - `departure_time`\n",
    "  - `arrival_time`\n",
    "  - `monday`, ..., `sunday`: bool\n",
    "\n",
    "We also add walking edges between stops which are closer than 500m."
   ]
  },
  {
   "cell_type": "markdown",
   "id": "9be0795c-3385-47df-b738-9c25cb6c2c79",
   "metadata": {},
   "source": [
    "## Load data"
   ]
  },
  {
   "cell_type": "code",
   "execution_count": 1,
   "id": "daee2ae1-b3b8-4b2a-9e39-f5daf02b0362",
   "metadata": {},
   "outputs": [],
   "source": [
    "from hdfs3 import HDFileSystem\n",
    "import pandas as pd\n",
    "\n",
    "hdfs = HDFileSystem(user='eric') \n",
    "\n",
    "def read_hdfs(path):\n",
    "    files = hdfs.glob(path)\n",
    "    dfs = []\n",
    "    for file in files:\n",
    "        with hdfs.open(file) as f:\n",
    "            dfs.append(pd.read_parquet(f))\n",
    "    return pd.concat(dfs)\n",
    "\n",
    "hdfs.ls(\"/user/tshen/final-assn/parquet\")\n",
    "\n",
    "trips = read_hdfs('/user/tshen/final-assn/parquet/trips/*.parquet')\n",
    "stop_times = read_hdfs('/user/tshen/final-assn/parquet/stop_times/*.parquet')"
   ]
  },
  {
   "cell_type": "code",
   "execution_count": 2,
   "id": "907d6000-43d3-48d0-b087-27390f5afb28",
   "metadata": {},
   "outputs": [],
   "source": [
    "# trips = trips.astype({\n",
    "#     'service_id': 'string',\n",
    "#     'route_id': 'string',\n",
    "#     'trip_id': 'string',\n",
    "#     'monday': 'bool', \n",
    "#     'tuesday': 'bool',\n",
    "#     'wednesday': 'bool',\n",
    "#     'thursday': 'bool',\n",
    "#     'friday': 'bool',\n",
    "#     'saturday': 'bool',\n",
    "#     'sunday': 'bool'\n",
    "# })\n",
    "\n",
    "# stop_times = stop_times.astype({\n",
    "#     'stop_id': 'string',\n",
    "#     'trip_id': 'string',\n",
    "#     'arrival_time': 'string',\n",
    "#     'departure_time': 'string'\n",
    "# })\n",
    "\n",
    "# trips.info()\n",
    "# trips.head()\n",
    "\n",
    "# stop_times.info()\n",
    "# stop_times.head()"
   ]
  },
  {
   "cell_type": "markdown",
   "id": "fd4946ef-ee47-410a-a5c2-3d66bf402572",
   "metadata": {},
   "source": [
    "## Build Graph"
   ]
  },
  {
   "cell_type": "code",
   "execution_count": 3,
   "id": "61d1e446-e975-44d2-8a8c-cc53de7a9a23",
   "metadata": {},
   "outputs": [],
   "source": [
    "import networkx as nx"
   ]
  },
  {
   "cell_type": "code",
   "execution_count": 4,
   "id": "8784c6a0-a30c-404f-8c97-f1c1b05c3e25",
   "metadata": {},
   "outputs": [],
   "source": [
    "G = nx.MultiDiGraph()"
   ]
  },
  {
   "cell_type": "code",
   "execution_count": null,
   "id": "65558add-be55-450e-9e9c-594834b6c5a4",
   "metadata": {},
   "outputs": [],
   "source": [
    "def add_trip_to_graph(trip_df):\n",
    "    # we need to sort by stop_sequence, so that we can get the two consecutive stops\n",
    "    trip_df.sort_values('stop_sequence')\n",
    "    trip_df['previous_stop_id'] = trip_df['stop_id'].shift(1)\n",
    "    # drop first row\n",
    "    trip_df = trip_df.tail(trip_df.shape[0] - 1)\n",
    "    G.add_edges_from([*zip(trip_df['previous_stop_id'], trip_df['stop_id'])])\n",
    "\n",
    "stop_times.merge(trips, on='trip_id', how='inner').groupby('trip_id').apply(add_trip_to_graph)"
   ]
  },
  {
   "cell_type": "code",
   "execution_count": null,
   "id": "e3f3c4b3-8571-46a9-ada8-6f8a852957ee",
   "metadata": {},
   "outputs": [],
   "source": [
    "print(len(G.nodes))\n",
    "print(len(G.edges))"
   ]
  }
 ],
 "metadata": {
  "kernelspec": {
   "display_name": "Python 3",
   "language": "python",
   "name": "python3"
  },
  "language_info": {
   "codemirror_mode": {
    "name": "ipython",
    "version": 3
   },
   "file_extension": ".py",
   "mimetype": "text/x-python",
   "name": "python",
   "nbconvert_exporter": "python",
   "pygments_lexer": "ipython3",
   "version": "3.9.7"
  }
 },
 "nbformat": 4,
 "nbformat_minor": 5
}
