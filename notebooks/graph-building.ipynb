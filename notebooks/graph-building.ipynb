{
 "cells": [
  {
   "cell_type": "markdown",
   "id": "64029330-d9b7-435b-9a1d-4808a722f9e9",
   "metadata": {},
   "source": [
    "# Graph Building\n",
    "\n",
    "We use [NetworkX](https://networkx.org/) for graph manipulation.\n",
    "\n",
    "We use the timetable data to create the graph. \n",
    "- Nodes represent stops (`stop_id`). \n",
    "- Edges (directed) represent trips. There can exists multiple edges between two nodes. \n",
    "  \n",
    "  edge attributes:\n",
    "  - `trip_id`\n",
    "  - `departure_time`\n",
    "  - `arrival_time`\n",
    "  - `monday`, ..., `sunday`: bool\n",
    "\n",
    "We also add walking edges between stops which are closer than 500m."
   ]
  },
  {
   "cell_type": "markdown",
   "id": "c1afbf46-7056-4815-b5e6-52d4691fe0d0",
   "metadata": {},
   "source": [
    "## Warning: 2GB memory is needed to run this notebook!"
   ]
  },
  {
   "cell_type": "markdown",
   "id": "9be0795c-3385-47df-b738-9c25cb6c2c79",
   "metadata": {},
   "source": [
    "## Load data"
   ]
  },
  {
   "cell_type": "code",
   "execution_count": 1,
   "id": "daee2ae1-b3b8-4b2a-9e39-f5daf02b0362",
   "metadata": {},
   "outputs": [],
   "source": [
    "from hdfs3 import HDFileSystem\n",
    "import pandas as pd\n",
    "\n",
    "hdfs = HDFileSystem(user='eric') \n",
    "\n",
    "def read_hdfs(path):\n",
    "    files = hdfs.glob(path)\n",
    "    dfs = []\n",
    "    for file in files:\n",
    "        with hdfs.open(file) as f:\n",
    "            dfs.append(pd.read_parquet(f))\n",
    "    return pd.concat(dfs)\n",
    "\n",
    "hdfs.ls(\"/user/tshen/final-assn/parquet\")\n",
    "\n",
    "trips = read_hdfs('/user/tshen/final-assn/parquet/trips/*.parquet')\n",
    "stop_times = read_hdfs('/user/tshen/final-assn/parquet/stop_times/*.parquet')"
   ]
  },
  {
   "cell_type": "code",
   "execution_count": 2,
   "id": "907d6000-43d3-48d0-b087-27390f5afb28",
   "metadata": {},
   "outputs": [
    {
     "name": "stdout",
     "output_type": "stream",
     "text": [
      "<class 'pandas.core.frame.DataFrame'>\n",
      "Int64Index: 160040 entries, 0 to 779\n",
      "Data columns (total 10 columns):\n",
      " #   Column      Non-Null Count   Dtype \n",
      "---  ------      --------------   ----- \n",
      " 0   service_id  160040 non-null  string\n",
      " 1   route_id    160040 non-null  string\n",
      " 2   trip_id     160040 non-null  string\n",
      " 3   monday      160040 non-null  bool  \n",
      " 4   tuesday     160040 non-null  bool  \n",
      " 5   wednesday   160040 non-null  bool  \n",
      " 6   thursday    160040 non-null  bool  \n",
      " 7   friday      160040 non-null  bool  \n",
      " 8   saturday    160040 non-null  bool  \n",
      " 9   sunday      160040 non-null  bool  \n",
      "dtypes: bool(7), string(3)\n",
      "memory usage: 6.0 MB\n",
      "<class 'pandas.core.frame.DataFrame'>\n",
      "Int64Index: 2166674 entries, 0 to 4125\n",
      "Data columns (total 5 columns):\n",
      " #   Column          Dtype \n",
      "---  ------          ----- \n",
      " 0   stop_id         string\n",
      " 1   trip_id         string\n",
      " 2   arrival_time    string\n",
      " 3   departure_time  string\n",
      " 4   stop_sequence   int32 \n",
      "dtypes: int32(1), string(4)\n",
      "memory usage: 90.9 MB\n"
     ]
    },
    {
     "data": {
      "text/html": [
       "<div>\n",
       "<style scoped>\n",
       "    .dataframe tbody tr th:only-of-type {\n",
       "        vertical-align: middle;\n",
       "    }\n",
       "\n",
       "    .dataframe tbody tr th {\n",
       "        vertical-align: top;\n",
       "    }\n",
       "\n",
       "    .dataframe thead th {\n",
       "        text-align: right;\n",
       "    }\n",
       "</style>\n",
       "<table border=\"1\" class=\"dataframe\">\n",
       "  <thead>\n",
       "    <tr style=\"text-align: right;\">\n",
       "      <th></th>\n",
       "      <th>stop_id</th>\n",
       "      <th>trip_id</th>\n",
       "      <th>arrival_time</th>\n",
       "      <th>departure_time</th>\n",
       "      <th>stop_sequence</th>\n",
       "    </tr>\n",
       "  </thead>\n",
       "  <tbody>\n",
       "    <tr>\n",
       "      <th>0</th>\n",
       "      <td>8587020</td>\n",
       "      <td>1.TA.1-N31-j19-1.1.R</td>\n",
       "      <td>25:25:00</td>\n",
       "      <td>25:25:00</td>\n",
       "      <td>1</td>\n",
       "    </tr>\n",
       "    <tr>\n",
       "      <th>1</th>\n",
       "      <td>8590535</td>\n",
       "      <td>1.TA.1-N31-j19-1.1.R</td>\n",
       "      <td>25:27:00</td>\n",
       "      <td>25:27:00</td>\n",
       "      <td>2</td>\n",
       "    </tr>\n",
       "    <tr>\n",
       "      <th>2</th>\n",
       "      <td>8590222</td>\n",
       "      <td>1.TA.1-N31-j19-1.1.R</td>\n",
       "      <td>25:27:00</td>\n",
       "      <td>25:27:00</td>\n",
       "      <td>3</td>\n",
       "    </tr>\n",
       "    <tr>\n",
       "      <th>3</th>\n",
       "      <td>8590218</td>\n",
       "      <td>1.TA.1-N31-j19-1.1.R</td>\n",
       "      <td>25:28:00</td>\n",
       "      <td>25:28:00</td>\n",
       "      <td>4</td>\n",
       "    </tr>\n",
       "    <tr>\n",
       "      <th>4</th>\n",
       "      <td>8590521</td>\n",
       "      <td>1.TA.1-N31-j19-1.1.R</td>\n",
       "      <td>25:30:00</td>\n",
       "      <td>25:30:00</td>\n",
       "      <td>5</td>\n",
       "    </tr>\n",
       "  </tbody>\n",
       "</table>\n",
       "</div>"
      ],
      "text/plain": [
       "   stop_id               trip_id arrival_time departure_time  stop_sequence\n",
       "0  8587020  1.TA.1-N31-j19-1.1.R     25:25:00       25:25:00              1\n",
       "1  8590535  1.TA.1-N31-j19-1.1.R     25:27:00       25:27:00              2\n",
       "2  8590222  1.TA.1-N31-j19-1.1.R     25:27:00       25:27:00              3\n",
       "3  8590218  1.TA.1-N31-j19-1.1.R     25:28:00       25:28:00              4\n",
       "4  8590521  1.TA.1-N31-j19-1.1.R     25:30:00       25:30:00              5"
      ]
     },
     "execution_count": 2,
     "metadata": {},
     "output_type": "execute_result"
    }
   ],
   "source": [
    "trips = trips.astype({\n",
    "    'service_id': 'string',\n",
    "    'route_id': 'string',\n",
    "    'trip_id': 'string',\n",
    "    'monday': 'bool', \n",
    "    'tuesday': 'bool',\n",
    "    'wednesday': 'bool',\n",
    "    'thursday': 'bool',\n",
    "    'friday': 'bool',\n",
    "    'saturday': 'bool',\n",
    "    'sunday': 'bool'\n",
    "})\n",
    "\n",
    "stop_times = stop_times.astype({\n",
    "    'stop_id': 'string',\n",
    "    'trip_id': 'string',\n",
    "    'arrival_time': 'string',\n",
    "    'departure_time': 'string'\n",
    "})\n",
    "\n",
    "trips.info()\n",
    "trips.head()\n",
    "\n",
    "stop_times.info()\n",
    "stop_times.head()"
   ]
  },
  {
   "cell_type": "markdown",
   "id": "fd4946ef-ee47-410a-a5c2-3d66bf402572",
   "metadata": {},
   "source": [
    "## Build Graph"
   ]
  },
  {
   "cell_type": "code",
   "execution_count": 3,
   "id": "61d1e446-e975-44d2-8a8c-cc53de7a9a23",
   "metadata": {},
   "outputs": [],
   "source": [
    "import networkx as nx"
   ]
  },
  {
   "cell_type": "code",
   "execution_count": 4,
   "id": "8784c6a0-a30c-404f-8c97-f1c1b05c3e25",
   "metadata": {},
   "outputs": [],
   "source": [
    "G = nx.MultiDiGraph()"
   ]
  },
  {
   "cell_type": "code",
   "execution_count": 6,
   "id": "65558add-be55-450e-9e9c-594834b6c5a4",
   "metadata": {},
   "outputs": [
    {
     "name": "stdout",
     "output_type": "stream",
     "text": [
      "5min 6s ± 0 ns per loop (mean ± std. dev. of 1 run, 1 loop each)\n"
     ]
    }
   ],
   "source": [
    "%%timeit -n1 -r1\n",
    "def add_trip_to_graph(trip_df):\n",
    "    # we need to sort by stop_sequence, so that we can get the two consecutive stops\n",
    "    trip_df = trip_df.sort_values('stop_sequence')\n",
    "    trip_df['previous_stop_id'] = trip_df['stop_id'].shift(1)\n",
    "    trip_df['previous_departure_time'] = trip_df['departure_time'].shift(1)\n",
    "    # drop first row\n",
    "    trip_df = trip_df.tail(trip_df.shape[0]-1)\n",
    "    G.add_edges_from([*zip(\n",
    "        trip_df['previous_stop_id'], \n",
    "        trip_df['stop_id'],\n",
    "        map(lambda x: {'departure_time':x[0], 'arrival_time':x[1], 'trip_id':x[2]},\n",
    "            zip(\n",
    "                trip_df['previous_departure_time'],\n",
    "                trip_df['arrival_time'],\n",
    "                trip_df['trip_id']\n",
    "            )\n",
    "           )\n",
    "    )])\n",
    "\n",
    "stop_times.merge(trips, on='trip_id', how='inner').groupby('trip_id').apply(add_trip_to_graph)"
   ]
  },
  {
   "cell_type": "code",
   "execution_count": 20,
   "id": "e3f3c4b3-8571-46a9-ada8-6f8a852957ee",
   "metadata": {},
   "outputs": [
    {
     "name": "stdout",
     "output_type": "stream",
     "text": [
      "1812\n",
      "2006634\n",
      "{0: {'departure_time': '25:25:00', 'arrival_time': '25:27:00', 'trip_id': '1.TA.1-N31-j19-1.1.R'}, 1: {'departure_time': '28:20:00', 'arrival_time': '28:21:00', 'trip_id': '10.TA.1-N33-j19-1.2.R'}, 2: {'departure_time': '25:20:00', 'arrival_time': '25:21:00', 'trip_id': '11.TA.1-N33-j19-1.3.R'}, 3: {'departure_time': '25:20:00', 'arrival_time': '25:21:00', 'trip_id': '12.TA.1-N33-j19-1.3.R'}, 4: {'departure_time': '26:20:00', 'arrival_time': '26:21:00', 'trip_id': '13.TA.1-N33-j19-1.3.R'}, 5: {'departure_time': '26:20:00', 'arrival_time': '26:21:00', 'trip_id': '14.TA.1-N33-j19-1.3.R'}, 6: {'departure_time': '27:20:00', 'arrival_time': '27:21:00', 'trip_id': '15.TA.1-N33-j19-1.3.R'}, 7: {'departure_time': '26:25:00', 'arrival_time': '26:27:00', 'trip_id': '2.TA.1-N31-j19-1.1.R'}, 8: {'departure_time': '27:25:00', 'arrival_time': '27:27:00', 'trip_id': '3.TA.1-N31-j19-1.1.R'}, 9: {'departure_time': '27:20:00', 'arrival_time': '27:21:00', 'trip_id': '8.TA.1-N33-j19-1.2.R'}, 10: {'departure_time': '27:20:00', 'arrival_time': '27:21:00', 'trip_id': '9.TA.1-N33-j19-1.2.R'}}\n"
     ]
    }
   ],
   "source": [
    "print(len(G.nodes))\n",
    "print(len(G.edges))\n",
    "\n",
    "print(G['8587020']['8590535'])"
   ]
  }
 ],
 "metadata": {
  "kernelspec": {
   "display_name": "Python 3",
   "language": "python",
   "name": "python3"
  },
  "language_info": {
   "codemirror_mode": {
    "name": "ipython",
    "version": 3
   },
   "file_extension": ".py",
   "mimetype": "text/x-python",
   "name": "python",
   "nbconvert_exporter": "python",
   "pygments_lexer": "ipython3",
   "version": "3.9.7"
  }
 },
 "nbformat": 4,
 "nbformat_minor": 5
}
